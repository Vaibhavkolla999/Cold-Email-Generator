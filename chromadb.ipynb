{
 "cells": [
  {
   "cell_type": "code",
   "execution_count": 3,
   "id": "41d95cb5",
   "metadata": {},
   "outputs": [
    {
     "name": "stdout",
     "output_type": "stream",
     "text": [
      "Collection 'new_collection_name_b1474afb-09dc-4e83-8589-c3b120a9f3fb' created successfully.\n"
     ]
    },
    {
     "data": {
      "text/plain": [
       "Collection(id=1f548a4c-4256-4d0e-84a5-66258ba2c04e, name=new_collection_name_b1474afb-09dc-4e83-8589-c3b120a9f3fb)"
      ]
     },
     "execution_count": 3,
     "metadata": {},
     "output_type": "execute_result"
    }
   ],
   "source": [
    "import uuid\n",
    "from chromadb import Client\n",
    "\n",
    "client = Client()\n",
    "\n",
    "def create_collection_with_unique_name(base_name):\n",
    "    # Generate a unique name for the collection\n",
    "    unique_name = base_name + \"_\" + str(uuid.uuid4())\n",
    "\n",
    "    try:\n",
    "        # Attempt to create a new collection with the unique name\n",
    "        collection = client.create_collection(name=unique_name)\n",
    "        print(f\"Collection '{unique_name}' created successfully.\")\n",
    "        return collection\n",
    "    except Exception as e:\n",
    "        # Handle exceptions and provide feedback\n",
    "        print(f\"An error occurred: {e}\")\n",
    "\n",
    "# Attempt to create the collection\n",
    "create_collection_with_unique_name(\"new_collection_name\")\n"
   ]
  },
  {
   "cell_type": "code",
   "execution_count": 4,
   "id": "043267ac",
   "metadata": {},
   "outputs": [
    {
     "ename": "NameError",
     "evalue": "name 'collection' is not defined",
     "output_type": "error",
     "traceback": [
      "\u001b[1;31m---------------------------------------------------------------------------\u001b[0m",
      "\u001b[1;31mNameError\u001b[0m                                 Traceback (most recent call last)",
      "Cell \u001b[1;32mIn[4], line 1\u001b[0m\n\u001b[1;32m----> 1\u001b[0m \u001b[43mcollection\u001b[49m\u001b[38;5;241m.\u001b[39madd(\n\u001b[0;32m      2\u001b[0m     documents \u001b[38;5;241m=\u001b[39m [\n\u001b[0;32m      3\u001b[0m         \u001b[38;5;124m\"\u001b[39m\u001b[38;5;124mThis is about new york\u001b[39m\u001b[38;5;124m\"\u001b[39m,\n\u001b[0;32m      4\u001b[0m         \u001b[38;5;124m\"\u001b[39m\u001b[38;5;124mThis is about delhi\u001b[39m\u001b[38;5;124m\"\u001b[39m\n\u001b[0;32m      5\u001b[0m     ],\n\u001b[0;32m      6\u001b[0m     ids \u001b[38;5;241m=\u001b[39m [\n\u001b[0;32m      7\u001b[0m         \u001b[38;5;124m\"\u001b[39m\u001b[38;5;124mid1\u001b[39m\u001b[38;5;124m\"\u001b[39m,\n\u001b[0;32m      8\u001b[0m         \u001b[38;5;124m\"\u001b[39m\u001b[38;5;124mid2\u001b[39m\u001b[38;5;124m\"\u001b[39m\n\u001b[0;32m      9\u001b[0m     ] \n\u001b[0;32m     10\u001b[0m )\n",
      "\u001b[1;31mNameError\u001b[0m: name 'collection' is not defined"
     ]
    }
   ],
   "source": [
    "collection.add(\n",
    "    documents = [\n",
    "        \"This is about new york\",\n",
    "        \"This is about delhi\"\n",
    "    ],\n",
    "    ids = [\n",
    "        \"id1\",\n",
    "        \"id2\"\n",
    "    ] \n",
    ")"
   ]
  },
  {
   "cell_type": "code",
   "execution_count": null,
   "id": "ca35acb1-6fd8-45fb-a785-f46593f9bc4c",
   "metadata": {},
   "outputs": [],
   "source": [
    "r = collection.query( query_texts = [\"What are properties for pizza\"], n_results = 2)"
   ]
  },
  {
   "cell_type": "code",
   "execution_count": null,
   "id": "2fc5b6b5-97c3-4005-8dff-acf4bf47113f",
   "metadata": {},
   "outputs": [],
   "source": [
    "collection.get()"
   ]
  },
  {
   "cell_type": "code",
   "execution_count": null,
   "id": "b77d1364-c480-427a-81ce-1c0ec34711ba",
   "metadata": {},
   "outputs": [],
   "source": []
  }
 ],
 "metadata": {
  "kernelspec": {
   "display_name": "Python 3 (ipykernel)",
   "language": "python",
   "name": "python3"
  },
  "language_info": {
   "codemirror_mode": {
    "name": "ipython",
    "version": 3
   },
   "file_extension": ".py",
   "mimetype": "text/x-python",
   "name": "python",
   "nbconvert_exporter": "python",
   "pygments_lexer": "ipython3",
   "version": "3.10.10"
  }
 },
 "nbformat": 4,
 "nbformat_minor": 5
}
